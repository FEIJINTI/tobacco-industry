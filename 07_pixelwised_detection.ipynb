{
 "cells": [
  {
   "cell_type": "markdown",
   "metadata": {
    "collapsed": true,
    "pycharm": {
     "name": "#%% md\n"
    }
   },
   "source": [
    "# 基于像素的识别"
   ]
  },
  {
   "cell_type": "code",
   "execution_count": 2,
   "outputs": [],
   "source": [
    "import pickle\n",
    "import cv2\n",
    "import numpy as np\n",
    "from utils import split_xy"
   ],
   "metadata": {
    "collapsed": false,
    "pycharm": {
     "name": "#%%\n"
    }
   }
  },
  {
   "cell_type": "code",
   "execution_count": 1,
   "outputs": [],
   "source": [
    "# 一些参数\n",
    "blk_sz = 1\n",
    "sensitivity = 1\n",
    "selected_bands = [127, 201, 202, 294]\n",
    "tree_num = 1\n",
    "train_size = 140000\n",
    "file_name, labeled_image_file = r\"/Volumes/zc/zhouchao/616/calibrated1.raw\", \\\n",
    "r\"/Volumes/zc/zhouchao/616/label1.bmp\"\n",
    "\n",
    "test_dir = \"/Volumes/zc/zhouchao/618(2)/kazhi/\"\n",
    "\n",
    "dataset_file = f'./dataset/data_{blk_sz}x{blk_sz}_c{len(selected_bands)}_sen{sensitivity}_1.p'\n",
    "model_file = f'./models/rf_{blk_sz}x{blk_sz}_c{len(selected_bands)}_{tree_num}_sen{sensitivity}_4.model'"
   ],
   "metadata": {
    "collapsed": false,
    "pycharm": {
     "name": "#%%\n"
    }
   }
  },
  {
   "cell_type": "markdown",
   "source": [
    "## 数据集的构建"
   ],
   "metadata": {
    "collapsed": false
   }
  },
  {
   "cell_type": "code",
   "execution_count": 6,
   "outputs": [],
   "source": [
    "with open(file_name, \"rb\") as f:\n",
    "    data = np.frombuffer(f.read(), dtype=np.float32).reshape((600, 448, 1024)).transpose(0, 2, 1)\n",
    "data = data[..., selected_bands]\n",
    "label = cv2.imread(labeled_image_file)\n",
    "color_dict = {(0, 0, 255): 1, (255, 255, 255): 0, (0, 255, 0): 2, (255, 0, 0): 1, (0, 255, 255): 4,\n",
    "              (255, 255, 0): 5, (255, 0, 255): 6}\n",
    "x, y = split_xy(data, label, blk_sz, sensitivity=sensitivity, color_dict=color_dict)\n",
    "with open(dataset_file, 'wb') as f:\n",
    "    pickle.dump((x, y), f)"
   ],
   "metadata": {
    "collapsed": false,
    "pycharm": {
     "name": "#%%\n"
    }
   }
  },
  {
   "cell_type": "markdown",
   "source": [
    "## 数据平衡化"
   ],
   "metadata": {
    "collapsed": false,
    "pycharm": {
     "name": "#%% md\n"
    }
   }
  },
  {
   "cell_type": "code",
   "execution_count": 3,
   "outputs": [
    {
     "name": "stdout",
     "output_type": "stream",
     "text": [
      "数据量：  614400\n",
      "x train (430080, 1, 1, 4), y train (430080,)\n",
      "x test (184320, 1, 1, 4), y test (184320,)\n",
      "train (array([589552.,  17534.,   1208.,      0.,   1362.,   3112.,   1632.]), array([0, 1, 2, 3, 4, 5, 6, 7]), <BarContainer object of 7 artists>) \n",
      "\n"
     ]
    },
    {
     "data": {
      "text/plain": "<Figure size 720x432 with 1 Axes>",
      "image/png": "[encoded data removed]"
     },
     "metadata": {
      "needs_background": "light"
     },
     "output_type": "display_data"
    },
    {
     "name": "stdout",
     "output_type": "stream",
     "text": [
      "train (array([412687., 412687., 412687.,      0., 412687., 412687., 412687.]), array([0, 1, 2, 3, 4, 5, 6, 7]), <BarContainer object of 7 artists>) \n",
      "\n"
     ]
    },
    {
     "data": {
      "text/plain": "<Figure size 720x432 with 1 Axes>",
      "image/png": "[encoded data removed]"
     },
     "metadata": {
      "needs_background": "light"
     },
     "output_type": "display_data"
    },
    {
     "name": "stdout",
     "output_type": "stream",
     "text": [
      "train (array([23333., 23333., 23334.,     0., 23333., 23333., 23334.]), array([0, 1, 2, 3, 4, 5, 6, 7]), <BarContainer object of 7 artists>) \n",
      "\n"
     ]
    },
    {
     "data": {
      "text/plain": "<Figure size 720x432 with 1 Axes>",
      "image/png": "[encoded data removed]"
     },
     "metadata": {
      "needs_background": "light"
     },
     "output_type": "display_data"
    },
    {
     "name": "stdout",
     "output_type": "stream",
     "text": [
      "140000\n"
     ]
    }
   ],
   "source": [
    "from matplotlib import pyplot as plt\n",
    "from sklearn.model_selection import train_test_split\n",
    "from models import train_rf_and_report\n",
    "from imblearn.over_sampling import RandomOverSampler\n",
    "\n",
    "# 读取数据\n",
    "with open(dataset_file, 'rb') as f:\n",
    "    x_list, y_list = pickle.load(f)\n",
    "# 确保数据当中x和y数量对得上\n",
    "assert len(x_list) == len(y_list)\n",
    "print(\"数据量： \", len(x_list))\n",
    "x, y = np.asarray(x_list), np.asarray(y_list, dtype=int)\n",
    "x_train, x_test, y_train, y_test = train_test_split(x, y, test_size=0.3, random_state=5,\n",
    "                                                    shuffle=True, stratify=y)\n",
    "print(f\"x train {x_train.shape}, y train {y_train.shape}\\n\"\n",
    "      f\"x test {x_test.shape}, y test {y_test.shape}\")\n",
    "fig, axs = plt.subplots(figsize=(10, 6))\n",
    "hist_res_train = axs.hist(y, [0, 1, 2, 3, 4, 5, 6, 7], align='mid')\n",
    "print(f'train {hist_res_train} \\n')\n",
    "plt.show()\n",
    "\n",
    "ros = RandomOverSampler(random_state=0)\n",
    "x_train_shape = x_train.shape\n",
    "x_train = x_train.reshape((x_train.shape[0], -1))\n",
    "x_resampled, y_resampled = ros.fit_resample(x_train, y_train)\n",
    "# 画图\n",
    "fig, axs = plt.subplots(figsize=(10, 6))\n",
    "hist_res_train = axs.hist(y_resampled, [0, 1, 2, 3, 4, 5, 6, 7], align='mid')\n",
    "print(f'train {hist_res_train} \\n')\n",
    "plt.show()\n",
    "# 抽样\n",
    "x_train, _, y_train, _ =  train_test_split(x_resampled, y_resampled, train_size=train_size, random_state=0, shuffle=True, stratify=y_resampled)\n",
    "# 画图\n",
    "fig, axs = plt.subplots(figsize=(10, 6))\n",
    "hist_res_train = axs.hist(y_train, [0, 1, 2, 3, 4, 5, 6, 7], align='mid')\n",
    "print(f'train {hist_res_train} \\n')\n",
    "plt.show()\n",
    "x_train = x_train.reshape(x_train.shape[0], x_train_shape[1], x_train_shape[2], x_train_shape[3])\n",
    "print(len(x_train))"
   ],
   "metadata": {
    "collapsed": false,
    "pycharm": {
     "name": "#%%\n"
    }
   }
  },
  {
   "cell_type": "markdown",
   "source": [
    "## 模型训练"
   ],
   "metadata": {
    "collapsed": false,
    "pycharm": {
     "name": "#%% md\n"
    }
   }
  },
  {
   "cell_type": "code",
   "execution_count": 6,
   "outputs": [
    {
     "name": "stdout",
     "output_type": "stream",
     "text": [
      "预测时间： 0.032733917236328125\n",
      "训练集acc：1.0\n",
      "测试集acc：0.9790999348958334\n",
      "--------------------------------------------------\n",
      "测试集报告\n",
      "              precision    recall  f1-score   support\n",
      "\n",
      "           0       1.00      0.98      0.99    589552\n",
      "           1       0.72      0.96      0.82     17534\n",
      "           2       0.66      0.89      0.76      1208\n",
      "           4       0.71      0.86      0.77      1362\n",
      "           5       0.48      0.87      0.62      3112\n",
      "           6       0.43      0.90      0.58      1632\n",
      "\n",
      "    accuracy                           0.98    614400\n",
      "   macro avg       0.66      0.91      0.76    614400\n",
      "weighted avg       0.99      0.98      0.98    614400\n",
      "\n",
      "混淆矩阵：\n",
      "[[578285   6281    383    204   2593   1806]\n",
      " [   166  16849     69    187    233     30]\n",
      " [     8     36   1075     47     37      5]\n",
      " [     4    104     52   1166     34      2]\n",
      " [    56    147     48     43   2716    102]\n",
      " [    31     21      8      1    103   1468]]\n",
      "二分类报告：\n",
      "              precision    recall  f1-score   support\n",
      "\n",
      "           0       1.00      0.99      1.00    607086\n",
      "           2       0.56      0.94      0.70      7314\n",
      "\n",
      "    accuracy                           0.99    614400\n",
      "   macro avg       0.78      0.97      0.85    614400\n",
      "weighted avg       0.99      0.99      0.99    614400\n",
      "\n",
      "二混淆矩阵：\n",
      "[[601581   5505]\n",
      " [   407   6907]]\n"
     ]
    }
   ],
   "source": [
    "from models import feature\n",
    "from models import train_t_and_report\n",
    "\n",
    "features_train = feature(x_train)\n",
    "features_test = feature(x_test)\n",
    "feature_x = feature(x)\n",
    "clf = train_t_and_report(features_train, y_train, feature_x, y, save_path=model_file)"
   ],
   "metadata": {
    "collapsed": false,
    "pycharm": {
     "name": "#%%\n"
    }
   }
  },
  {
   "cell_type": "markdown",
   "source": [
    "## 模型评估"
   ],
   "metadata": {
    "collapsed": false,
    "pycharm": {
     "name": "#%% md\n"
    }
   }
  },
  {
   "cell_type": "code",
   "execution_count": 2,
   "outputs": [
    {
     "data": {
      "text/plain": "<Figure size 432x288 with 3 Axes>",
      "image/png": "[encoded data removed]"
     },
     "metadata": {
      "needs_background": "light"
     },
     "output_type": "display_data"
    }
   ],
   "source": [
    "from models import PixelWisedDetector\n",
    "from utils import visualization_evaluation\n",
    "\n",
    "clf = PixelWisedDetector(model_path=model_file, channel_num=len(selected_bands))\n",
    "visualization_evaluation(detector=clf, data_path=test_dir, selected_bands=selected_bands)"
   ],
   "metadata": {
    "collapsed": false,
    "pycharm": {
     "name": "#%%\n"
    }
   }
  },
  {
   "cell_type": "code",
   "execution_count": 9,
   "outputs": [],
   "source": [],
   "metadata": {
    "collapsed": false,
    "pycharm": {
     "name": "#%%\n"
    }
   }
  }
 ],
 "metadata": {
  "kernelspec": {
   "display_name": "Python 3",
   "language": "python",
   "name": "python3"
  },
  "language_info": {
   "codemirror_mode": {
    "name": "ipython",
    "version": 2
   },
   "file_extension": ".py",
   "mimetype": "text/x-python",
   "name": "python",
   "nbconvert_exporter": "python",
   "pygments_lexer": "ipython2",
   "version": "2.7.6"
  }
 },
 "nbformat": 4,
 "nbformat_minor": 0
}